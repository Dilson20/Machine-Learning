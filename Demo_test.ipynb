{
 "cells": [
  {
   "cell_type": "code",
   "execution_count": 2,
   "id": "0f81394c-0ad6-45ae-bb1a-e19eb3c2879d",
   "metadata": {},
   "outputs": [
    {
     "name": "stdout",
     "output_type": "stream",
     "text": [
      "Hello Machine Learning, here I come!\n"
     ]
    }
   ],
   "source": [
    "print('Hello Machine Learning, here I come!')"
   ]
  },
  {
   "cell_type": "code",
   "execution_count": 3,
   "id": "5fd1c2e1-0b6a-4696-85b2-64d8893f6d92",
   "metadata": {},
   "outputs": [
    {
     "data": {
      "text/plain": [
       "3"
      ]
     },
     "execution_count": 3,
     "metadata": {},
     "output_type": "execute_result"
    }
   ],
   "source": [
    "1 + 2"
   ]
  },
  {
   "cell_type": "code",
   "execution_count": 4,
   "id": "8a76ec50-fdb8-461c-9640-de493f9b096b",
   "metadata": {},
   "outputs": [],
   "source": [
    "c = [1,2,3]"
   ]
  },
  {
   "cell_type": "code",
   "execution_count": 5,
   "id": "f3b28042-f58d-4187-8a50-2134ed657b33",
   "metadata": {},
   "outputs": [
    {
     "data": {
      "text/plain": [
       "1"
      ]
     },
     "execution_count": 5,
     "metadata": {},
     "output_type": "execute_result"
    }
   ],
   "source": [
    "c[0]"
   ]
  },
  {
   "cell_type": "markdown",
   "id": "3d9b2790-d825-4a04-b6f3-4b51c6166449",
   "metadata": {},
   "source": [
    "# Week 1 "
   ]
  },
  {
   "cell_type": "markdown",
   "id": "78a67986-75ce-40c1-a50b-b024e4ca976e",
   "metadata": {},
   "source": [
    "Exercise 1:"
   ]
  },
  {
   "cell_type": "code",
   "execution_count": 11,
   "id": "a01eced9-0555-4c3a-ac15-aa701f28b7f4",
   "metadata": {},
   "outputs": [
    {
     "name": "stdin",
     "output_type": "stream",
     "text": [
      "Press 1 or 2 \n",
      " 2\n"
     ]
    }
   ],
   "source": [
    "a = input('Press 1 or 2 \\n')\n",
    "a = int(a)"
   ]
  },
  {
   "cell_type": "code",
   "execution_count": 12,
   "id": "c7645810-2e55-4f82-814d-c9f0c7387a85",
   "metadata": {
    "tags": []
   },
   "outputs": [
    {
     "name": "stdout",
     "output_type": "stream",
     "text": [
      "a is equal to 2\n"
     ]
    }
   ],
   "source": [
    "if a == 1:\n",
    "    print('a is equal to 1')\n",
    "else:\n",
    "    print('a is equal to 2')"
   ]
  },
  {
   "cell_type": "markdown",
   "id": "689df067-d3a0-4b5d-8dfb-18cd0f427b1e",
   "metadata": {},
   "source": [
    "Exercise 2:"
   ]
  },
  {
   "cell_type": "code",
   "execution_count": 1,
   "id": "58f8bf76-38ec-481b-ac42-807487699559",
   "metadata": {},
   "outputs": [],
   "source": [
    "sleep = [\"pillow\", \"dream\", \"water\", \"stuff animal\"]\n",
    "hours = 0"
   ]
  },
  {
   "cell_type": "code",
   "execution_count": 2,
   "id": "32c58e30-1cf1-40a7-a54c-81598182a1cf",
   "metadata": {},
   "outputs": [
    {
     "name": "stdout",
     "output_type": "stream",
     "text": [
      "pillow\n",
      "dream\n",
      "water\n",
      "stuff animal\n"
     ]
    }
   ],
   "source": [
    "for x in sleep:\n",
    "    print(x)"
   ]
  },
  {
   "cell_type": "code",
   "execution_count": 29,
   "id": "55afcf81-c9f0-41f8-b09e-0418e9ad05bc",
   "metadata": {},
   "outputs": [
    {
     "name": "stdout",
     "output_type": "stream",
     "text": [
      "pillow\n",
      "dream\n",
      "water\n",
      "stuff animal\n"
     ]
    }
   ],
   "source": [
    "while hours < len(sleep):\n",
    "    print(sleep[hours])\n",
    "    hours += 1"
   ]
  },
  {
   "cell_type": "markdown",
   "id": "d2d59808-4e8d-4da8-a257-dacbad75b927",
   "metadata": {},
   "source": [
    "Exercise 3:"
   ]
  },
  {
   "cell_type": "code",
   "execution_count": 34,
   "id": "aba5c0a1-63e7-41a2-93e4-bc7a257c7e80",
   "metadata": {},
   "outputs": [
    {
     "name": "stdout",
     "output_type": "stream",
     "text": [
      "pillow\n",
      "dream\n",
      "water\n"
     ]
    }
   ],
   "source": [
    "while hours < len(sleep):\n",
    "    print(sleep[hours])\n",
    "    if hours == 2:\n",
    "        break\n",
    "    hours += 1"
   ]
  },
  {
   "cell_type": "code",
   "execution_count": 9,
   "id": "52077c13-6236-4ce3-afe2-87e30d151550",
   "metadata": {},
   "outputs": [
    {
     "name": "stdout",
     "output_type": "stream",
     "text": [
      "pillow\n",
      "dream\n",
      "stuff animal\n"
     ]
    }
   ],
   "source": [
    "for x in range(4):\n",
    "    if x == 2:\n",
    "        continue\n",
    "    print(sleep[x])"
   ]
  },
  {
   "cell_type": "markdown",
   "id": "52736c52-cf01-41af-8894-fc2e79f58b9a",
   "metadata": {},
   "source": [
    "Exercise 4:"
   ]
  },
  {
   "cell_type": "code",
   "execution_count": 10,
   "id": "8f75b75d-16d5-443f-a5d7-e1f1b0b9cf85",
   "metadata": {},
   "outputs": [],
   "source": [
    "def factorial(x):\n",
    "    if x == 1:\n",
    "        return 1\n",
    "    else:\n",
    "        return (x * factorial(x-1))"
   ]
  },
  {
   "cell_type": "code",
   "execution_count": 12,
   "id": "d11eb6ca-2aca-4f06-9d04-d7010fb62efd",
   "metadata": {},
   "outputs": [
    {
     "data": {
      "text/plain": [
       "6"
      ]
     },
     "execution_count": 12,
     "metadata": {},
     "output_type": "execute_result"
    }
   ],
   "source": [
    "factorial(3)"
   ]
  },
  {
   "cell_type": "code",
   "execution_count": null,
   "id": "eea8336b-7749-49f0-9071-46b35175d997",
   "metadata": {},
   "outputs": [],
   "source": []
  }
 ],
 "metadata": {
  "kernelspec": {
   "display_name": "Python 3 (ipykernel)",
   "language": "python",
   "name": "python3"
  },
  "language_info": {
   "codemirror_mode": {
    "name": "ipython",
    "version": 3
   },
   "file_extension": ".py",
   "mimetype": "text/x-python",
   "name": "python",
   "nbconvert_exporter": "python",
   "pygments_lexer": "ipython3",
   "version": "3.9.13"
  }
 },
 "nbformat": 4,
 "nbformat_minor": 5
}
